{
 "cells": [
  {
   "cell_type": "code",
   "execution_count": 4,
   "metadata": {
    "collapsed": true,
    "deletable": true,
    "editable": true
   },
   "outputs": [],
   "source": [
    "# Christina Chelf\n",
    "# Lab 6B\n",
    "\n",
    "#   1.  Using what you’ve learned in ex1-3 and in reading the documents, your goal is to  create a script that:\n",
    "#       a.  Asks a user what they would like to search on Twitter\n",
    "#       b.  Asks a user where they would like a map of these tweets.\n",
    "#       c.  Creates a map centered on the location given that starts at zoom level 8.\n",
    "#       d.  The map has markers placed at the location of each tweet, the pop up text is the content of each \n",
    "#            tweet and the poster, like so:\n",
    "#           i.  “[Username] said [Tweet Content]”\n",
    "#   2.  Some hints:\n",
    "#       a.  Your script can store the generated .html in the local path.\n",
    "#       b.  Don’t forget about error handling – You’ll want to make sure all of your inputs are correct and that a ‘user’ gives an actual place name.\n",
    "#       c.  Remember the basics of this lab – use for loops to iterate across data, etc.\n"
   ]
  },
  {
   "cell_type": "code",
   "execution_count": 6,
   "metadata": {
    "collapsed": false,
    "deletable": true,
    "editable": true
   },
   "outputs": [],
   "source": [
    "#import arcpy \n",
    "#from arcpy import env \n",
    "from TwitterSearch import *\n",
    "from geopy import geocoders\n"
   ]
  },
  {
   "cell_type": "code",
   "execution_count": 8,
   "metadata": {
    "collapsed": false,
    "deletable": true,
    "editable": true
   },
   "outputs": [],
   "source": [
    "import fileinput\n",
    "import string\n",
    "import os\n",
    "import datetime\n",
    "import folium\n",
    "import webbrowser\n",
    "import os"
   ]
  },
  {
   "cell_type": "code",
   "execution_count": 9,
   "metadata": {
    "collapsed": true,
    "deletable": true,
    "editable": true
   },
   "outputs": [],
   "source": [
    "displaylocation = None\n",
    "twittersearch = None\n",
    "\n",
    "# Geocode location using geopy, returns lat and long\n",
    "def geo(location):\n",
    "    g = geocoders.Nominatim()\n",
    "    loc = g.geocode(location)\n",
    "    return loc.latitude, loc.longitude\n",
    "\n"
   ]
  },
  {
   "cell_type": "code",
   "execution_count": 10,
   "metadata": {
    "collapsed": false,
    "deletable": true,
    "editable": true
   },
   "outputs": [
    {
     "name": "stdout",
     "output_type": "stream",
     "text": [
      "What should we search for on Twitter: tacomarocks\n",
      "Where should we look on a map: Tacoma\n"
     ]
    }
   ],
   "source": [
    "# Ask user what to search for\n",
    "\n",
    "while twittersearch is None:\n",
    "    input_word=raw_input('What should we search for on Twitter: ')\n",
    "    try:\n",
    "        twittersearch=str(input_word)\n",
    "    except ValueError:\n",
    "        print 'Invalid input. Try again'\n",
    "    else:\n",
    "        break\n",
    "while displaylocation is None:\n",
    "    input_word=raw_input('Where should we look on a map: ')\n",
    "    try:\n",
    "        displaylocation=str(input_word)\n",
    "    except ValueError:\n",
    "        print 'Invalid input. Try again'\n",
    "    else:\n",
    "        break\n",
    "\n"
   ]
  },
  {
   "cell_type": "code",
   "execution_count": 11,
   "metadata": {
    "collapsed": false,
    "deletable": true,
    "editable": true
   },
   "outputs": [
    {
     "name": "stdout",
     "output_type": "stream",
     "text": [
      "Gathering tweets and putting them on the map!\n"
     ]
    }
   ],
   "source": [
    "#creates a map centered on the location specified using default configuration\n",
    "map3 = folium.Map(location=geo(displaylocation), tiles='Stamen Terrain', zoom_start=8)\n",
    "print \"Gathering tweets and putting them on the map!\"\n"
   ]
  },
  {
   "cell_type": "code",
   "execution_count": 12,
   "metadata": {
    "collapsed": true,
    "deletable": true,
    "editable": true
   },
   "outputs": [],
   "source": [
    "#Search Twitter \n",
    "try:\n",
    "    tso = TwitterSearchOrder() # create a TwitterSearchOrder object\n",
    "    tso.set_keywords([twittersearch]) # let's define all words we would like to have a look for\n",
    "    tso.set_include_entities(False) # and don't give us all those entity information\n",
    "\n",
    "    #object creation with secret token\n",
    "    #These are Christina Chelfs Personal keys, please delete if you use for anything else. \n",
    "    ts = TwitterSearch(\n",
    "        consumer_key = 'tCZCl52HevrPprawvygKkWWVF',\n",
    "        consumer_secret = 'K1UAUoCcZvCeGEY62ciy36itMIIIcfmbNuY8xvZc7IkLiXbSyv',\n",
    "        access_token = '235018027-CQLQi4Sz6wePWfEuo77AFyOUBh8lFKD0JH4U4ZpW',\n",
    "        access_token_secret = 'E7ZQb80ItUF9hXFdHq5CAw8JShwWdzQtpEg8lrPcoMAfE'\n",
    "     )\n",
    "\n",
    "     # this is where the fun actually starts :)\n",
    "    for tweet in ts.search_tweets_iterable(tso):\n",
    "        if tweet['place'] is not None: \n",
    "            (lat, lng) = geo(tweet['place']['full_name'])\n",
    "            x= lng\n",
    "            y= lat\n",
    "            twitteruser = tweet['user']['screen_name']\n",
    "            tweettext= tweet['text']\n",
    "            folium.Marker([y, x], popup= twitteruser +\" tweeted: \"+ tweettext).add_to(map3)\n",
    "        \n",
    "except TwitterSearchException as e: # take care of all those ugly errors if there are some\n",
    "    print(e)\n"
   ]
  },
  {
   "cell_type": "code",
   "execution_count": 13,
   "metadata": {
    "collapsed": false,
    "deletable": true,
    "editable": true
   },
   "outputs": [
    {
     "name": "stdout",
     "output_type": "stream",
     "text": [
      "done\n"
     ]
    }
   ],
   "source": [
    "#saves to whatever directory you're in\n",
    "map3.save('map3.html')\n",
    "\n",
    "#This will take the location of maps1.html in our local directory and return the absolute path to it\n",
    "webbrowser.open('file://'+ os.path.realpath('map3.html'))\n",
    "\n",
    "print \"done\""
   ]
  },
  {
   "cell_type": "code",
   "execution_count": null,
   "metadata": {
    "collapsed": true,
    "deletable": true,
    "editable": true
   },
   "outputs": [],
   "source": [
    "\n",
    "\n",
    "        \n"
   ]
  },
  {
   "cell_type": "code",
   "execution_count": null,
   "metadata": {
    "collapsed": true,
    "deletable": true,
    "editable": true
   },
   "outputs": [],
   "source": []
  },
  {
   "cell_type": "code",
   "execution_count": null,
   "metadata": {
    "collapsed": true,
    "deletable": true,
    "editable": true
   },
   "outputs": [],
   "source": []
  }
 ],
 "metadata": {
  "kernelspec": {
   "display_name": "Python 2",
   "language": "python",
   "name": "python2"
  },
  "language_info": {
   "codemirror_mode": {
    "name": "ipython",
    "version": 2
   },
   "file_extension": ".py",
   "mimetype": "text/x-python",
   "name": "python",
   "nbconvert_exporter": "python",
   "pygments_lexer": "ipython2",
   "version": "2.7.13"
  }
 },
 "nbformat": 4,
 "nbformat_minor": 0
}
